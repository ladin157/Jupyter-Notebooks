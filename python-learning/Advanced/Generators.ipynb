{
 "cells": [
  {
   "cell_type": "markdown",
   "metadata": {},
   "source": [
    "# Generators\n",
    "\n",
    "Generators are very easy to implement, but a bit difficult to understand.\n",
    "\n",
    "Generators are used to create iterators, but with a different approach. Generators are simple functions which return an iterable of items, one at a time, in a spcial way."
   ]
  },
  {
   "cell_type": "code",
   "execution_count": 3,
   "metadata": {},
   "outputs": [
    {
     "name": "stdout",
     "output_type": "stream",
     "text": [
      "And the next number is ... 31\n",
      "And the next number is ... 35\n",
      "And the next number is ... 15\n",
      "And the next number is ... 1\n",
      "And the next number is ... 16\n",
      "And the next number is ... 29\n",
      "And the next number is ... 10\n"
     ]
    }
   ],
   "source": [
    "import random\n",
    "\n",
    "def lottery():\n",
    "    # Return 6 numbers between 1 and 40\n",
    "    for i in range(6):\n",
    "        yield random.randint(1, 40)\n",
    "    # returns a 7th number between 1 and 15\n",
    "    yield random.randint(1, 15)\n",
    "\n",
    "\n",
    "for random_number in lottery():\n",
    "    print(\"And the next number is ... %d\" %random_number)"
   ]
  },
  {
   "cell_type": "code",
   "execution_count": null,
   "metadata": {},
   "outputs": [],
   "source": [
    "import time\n",
    "def test():\n",
    "    i=0\n",
    "    while True:        \n",
    "        if i==100:\n",
    "            break\n",
    "        yield i\n",
    "#         time.sleep(1)\n",
    "        i+=1\n",
    "        \n",
    "    # yield i\n",
    "\n",
    "for i in test():\n",
    "    print(\"The value is: \", i)"
   ]
  },
  {
   "cell_type": "code",
   "execution_count": null,
   "metadata": {},
   "outputs": [],
   "source": []
  }
 ],
 "metadata": {
  "kernelspec": {
   "display_name": "Python 3",
   "language": "python",
   "name": "python3"
  },
  "language_info": {
   "codemirror_mode": {
    "name": "ipython",
    "version": 3
   },
   "file_extension": ".py",
   "mimetype": "text/x-python",
   "name": "python",
   "nbconvert_exporter": "python",
   "pygments_lexer": "ipython3",
   "version": "3.6.5"
  }
 },
 "nbformat": 4,
 "nbformat_minor": 2
}
