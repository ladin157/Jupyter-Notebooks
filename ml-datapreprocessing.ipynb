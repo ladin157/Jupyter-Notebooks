{
 "cells": [
  {
   "cell_type": "markdown",
   "metadata": {},
   "source": [
    "Import region\n",
    "--------------"
   ]
  },
  {
   "cell_type": "code",
   "execution_count": 1,
   "metadata": {
    "collapsed": true
   },
   "outputs": [],
   "source": [
    "from sklearn import preprocessing\n",
    "import numpy as np\n",
    "import pandas as pd\n",
    "from sklearn.preprocessing import Imputer"
   ]
  },
  {
   "cell_type": "markdown",
   "metadata": {},
   "source": [
    "Example of standardization\n",
    "---------------------------"
   ]
  },
  {
   "cell_type": "code",
   "execution_count": 2,
   "metadata": {},
   "outputs": [
    {
     "name": "stdout",
     "output_type": "stream",
     "text": [
      "[[ 1. -1.  2.]\n",
      " [ 2.  0.  0.]\n",
      " [ 0.  1. -1.]]\n"
     ]
    }
   ],
   "source": [
    "X = np.array([[ 1., -1.,  2.],[ 2.,  0.,  0.],[ 0.,  1., -1.]])\n",
    "print(X)"
   ]
  },
  {
   "cell_type": "code",
   "execution_count": 3,
   "metadata": {
    "collapsed": true
   },
   "outputs": [],
   "source": [
    "X_scaled = preprocessing.scale(X)"
   ]
  },
  {
   "cell_type": "code",
   "execution_count": 4,
   "metadata": {},
   "outputs": [
    {
     "data": {
      "text/plain": [
       "array([[ 0.        , -1.22474487,  1.33630621],\n",
       "       [ 1.22474487,  0.        , -0.26726124],\n",
       "       [-1.22474487,  1.22474487, -1.06904497]])"
      ]
     },
     "execution_count": 4,
     "metadata": {},
     "output_type": "execute_result"
    }
   ],
   "source": [
    "X_scaled"
   ]
  },
  {
   "cell_type": "markdown",
   "metadata": {},
   "source": [
    "Example of Replacing Missing value\n",
    "---------------------------------"
   ]
  },
  {
   "cell_type": "code",
   "execution_count": 5,
   "metadata": {},
   "outputs": [
    {
     "name": "stdout",
     "output_type": "stream",
     "text": [
      "[[ 4.          2.        ]\n",
      " [ 6.          3.66666667]\n",
      " [ 7.          6.        ]]\n"
     ]
    }
   ],
   "source": [
    "imp = Imputer(missing_values='NaN', strategy='mean', axis=0)\n",
    "imp.fit([[1,2],[np.nan,3],[7,6]])\n",
    "X = [[np.nan, 2], [6, np.nan], [7, 6]]\n",
    "print(imp.transform(X))\n"
   ]
  },
  {
   "cell_type": "code",
   "execution_count": 6,
   "metadata": {},
   "outputs": [
    {
     "name": "stdout",
     "output_type": "stream",
     "text": [
      "   Unnamed: 0  @font-face  @keyframes  @media                       _id  \\\n",
      "0           0         NaN         NaN     NaN  59d256f52d3c2c06aa10fc69   \n",
      "1           1         NaN         NaN     NaN  59d256f52d3c2c06aa10fc6a   \n",
      "2           2         NaN         NaN     NaN  59d256f52d3c2c06aa10fc6b   \n",
      "3           3         NaN         NaN     NaN  59d256f52d3c2c06aa10fc6c   \n",
      "4           4         NaN         NaN     NaN  59d256f52d3c2c06aa10fc6d   \n",
      "\n",
      "  align-content align-items align-self  all  \\\n",
      "0        normal      normal       auto  NaN   \n",
      "1        normal      normal       auto  NaN   \n",
      "2        normal      normal       auto  NaN   \n",
      "3        normal      normal       auto  NaN   \n",
      "4        normal      normal       auto  NaN   \n",
      "\n",
      "                               animation   ...   unicode-bidi user-select  \\\n",
      "0  none 0s ease 0s 1 normal none running   ...         normal        text   \n",
      "1  none 0s ease 0s 1 normal none running   ...         normal        text   \n",
      "2  none 0s ease 0s 1 normal none running   ...         normal        text   \n",
      "3  none 0s ease 0s 1 normal none running   ...         normal        text   \n",
      "4  none 0s ease 0s 1 normal none running   ...         normal        text   \n",
      "\n",
      "  vertical-align visibility  white-space  width word-break word-spacing  \\\n",
      "0       baseline    visible       normal  626px     normal          0px   \n",
      "1       baseline    visible       normal  626px     normal          0px   \n",
      "2       baseline    visible       normal  624px     normal          0px   \n",
      "3            top    visible       normal  298px     normal          0px   \n",
      "4       baseline    visible       normal  626px     normal          0px   \n",
      "\n",
      "  word-wrap z-index  \n",
      "0    normal    auto  \n",
      "1    normal    auto  \n",
      "2    normal    auto  \n",
      "3    normal    auto  \n",
      "4    normal    auto  \n",
      "\n",
      "[5 rows x 186 columns]\n"
     ]
    }
   ],
   "source": [
    "X_train = pd.read_csv('data/css_data.csv')\n",
    "\n",
    "print(X_train.head())"
   ]
  },
  {
   "cell_type": "code",
   "execution_count": 7,
   "metadata": {
    "collapsed": true
   },
   "outputs": [],
   "source": [
    "import numpy as np\n",
    "import pandas as pd\n",
    "\n",
    "input_file = \"data/mydata.csv\"\n",
    "\n",
    "\n",
    "# comma delimited is the default\n",
    "df = pd.read_csv(input_file, header = 0)\n",
    "\n",
    "# for space delimited use:\n",
    "# df = pd.read_csv(input_file, header = 0, delimiter = \" \")\n",
    "\n",
    "# for tab delimited use:\n",
    "# df = pd.read_csv(input_file, header = 0, delimiter = \"\\t\")\n",
    "\n",
    "# put the original column names in a python list\n",
    "original_headers = list(df.columns.values)\n",
    "\n",
    "# remove the non-numeric columns\n",
    "df = df._get_numeric_data()\n",
    "\n",
    "# put the numeric column names in a python list\n",
    "numeric_headers = list(df.columns.values)\n",
    "\n",
    "# create a numpy array with the numeric values for input into scikit-learn\n",
    "numpy_array = df.as_matrix()\n",
    "\n",
    "# reverse the order of the columns\n",
    "numeric_headers.reverse()\n",
    "reverse_df = df[numeric_headers]\n",
    "\n",
    "# write the reverse_df to an excel spreadsheet\n",
    "reverse_df.to_excel('data/path_to_file.xls')"
   ]
  },
  {
   "cell_type": "code",
   "execution_count": null,
   "metadata": {
    "collapsed": true
   },
   "outputs": [],
   "source": []
  }
 ],
 "metadata": {
  "kernelspec": {
   "display_name": "Python 3",
   "language": "python",
   "name": "python3"
  },
  "language_info": {
   "codemirror_mode": {
    "name": "ipython",
    "version": 3
   },
   "file_extension": ".py",
   "mimetype": "text/x-python",
   "name": "python",
   "nbconvert_exporter": "python",
   "pygments_lexer": "ipython3",
   "version": "3.6.1"
  }
 },
 "nbformat": 4,
 "nbformat_minor": 2
}
